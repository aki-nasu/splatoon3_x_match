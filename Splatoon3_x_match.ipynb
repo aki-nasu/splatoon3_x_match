{
  "nbformat": 4,
  "nbformat_minor": 0,
  "metadata": {
    "colab": {
      "provenance": [],
      "collapsed_sections": [
        "ZV8K9rkcEttT"
      ],
      "toc_visible": true,
      "authorship_tag": "ABX9TyN5oxkIQyLI4hOdSwpbhymO",
      "include_colab_link": true
    },
    "kernelspec": {
      "name": "python3",
      "display_name": "Python 3"
    },
    "language_info": {
      "name": "python"
    }
  },
  "cells": [
    {
      "cell_type": "markdown",
      "metadata": {
        "id": "view-in-github",
        "colab_type": "text"
      },
      "source": [
        "<a href=\"https://colab.research.google.com/github/aki-nasu/splatoon3_x_match/blob/main/Splatoon3_x_match.ipynb\" target=\"_parent\"><img src=\"https://colab.research.google.com/assets/colab-badge.svg\" alt=\"Open In Colab\"/></a>"
      ]
    },
    {
      "cell_type": "markdown",
      "source": [
        "#### Preprocessing"
      ],
      "metadata": {
        "id": "ZV8K9rkcEttT"
      }
    },
    {
      "cell_type": "code",
      "execution_count": null,
      "metadata": {
        "id": "zzz47qLqSvDz"
      },
      "outputs": [],
      "source": [
        "import numpy as np\n",
        "import matplotlib.pyplot as plt"
      ]
    },
    {
      "cell_type": "markdown",
      "source": [
        "#### Splat Zones"
      ],
      "metadata": {
        "id": "T-nOu1NsEIyS"
      }
    },
    {
      "cell_type": "code",
      "source": [
        " # ガチエリア\n",
        "splat_zones = np.array([\n",
        "    1653.2,1599.6,1578.6,1645.0,1707.9,1643.4,1607.8,1567.9,1595.6,1612.2,\n",
        "    1644.6,1634.6,1624.6,1648.6,1658.6,1694.2,1730.4,1713.5,1723.5,1755.6,\n",
        "    1766.2,1776.2,1787.9,1757.1,1787.5,1826.8\n",
        "])"
      ],
      "metadata": {
        "id": "LYHhqK0CEFAc"
      },
      "execution_count": null,
      "outputs": []
    },
    {
      "cell_type": "markdown",
      "source": [
        "#### Clam Blitz"
      ],
      "metadata": {
        "id": "6sXweVgSE9lp"
      }
    },
    {
      "cell_type": "code",
      "source": [
        "# ガチアサリ\n",
        "clam_blitz = np.array([\n",
        "    1735.4,1781.3,1866.4,1776.3,1766.2,1787.9,1844.4,1828.5,1808.2,1770.4,\n",
        "    1735.8\n",
        "])"
      ],
      "metadata": {
        "id": "PCE7337hElx2"
      },
      "execution_count": null,
      "outputs": []
    },
    {
      "cell_type": "markdown",
      "source": [
        "#### Rainmaker"
      ],
      "metadata": {
        "id": "iEZfPXN_FCWG"
      }
    },
    {
      "cell_type": "code",
      "source": [
        "# ガチホコ\n",
        "rainmaker = np.array([\n",
        "    1914.2,1840.6,1870.5,1818.4,1762.0,1701.8,1731.8,1706.3,1696.3,1671.9,\n",
        "    1688.2,1620.2,1579.6,1533.5,1606.8,1622.4,1644.2,1682.0\n",
        "])"
      ],
      "metadata": {
        "id": "U4KF1g7iEntg"
      },
      "execution_count": null,
      "outputs": []
    },
    {
      "cell_type": "markdown",
      "source": [
        "#### Tower Control"
      ],
      "metadata": {
        "id": "MRct5TTYFEuV"
      }
    },
    {
      "cell_type": "code",
      "source": [
        "# ガチヤグラ\n",
        "tower_control = np.array([\n",
        "    1509.4,1476.5,1510.0,1594.5,1549.8,1529.3,1494.4,1538.0,1548.0,1560.1,\n",
        "    1586.5,1596.5,1606.5,1552.9,1542.9,1507.6,1555.2,1580.5,1594.6\n",
        "])"
      ],
      "metadata": {
        "id": "T8cW_tJoEpqK"
      },
      "execution_count": null,
      "outputs": []
    },
    {
      "cell_type": "markdown",
      "source": [
        "#### Output"
      ],
      "metadata": {
        "id": "HuHsdqTgFH55"
      }
    },
    {
      "cell_type": "code",
      "source": [
        "print(\"----\")\n",
        "print(\"Splat Zones: \" + str(len(splat_zones)))\n",
        "print(\"Clam Blitz: \" + str(len(clam_blitz)))\n",
        "print(\"Rainmaker: \" + str(len(rainmaker)))\n",
        "print(\"Tower Control: \" + str(len(tower_control)))\n",
        "print(\"----\")\n",
        "\n",
        "plt.plot(np.array(range(1,splat_zones.size+1)), splat_zones, marker=\"o\", label=\"Splat Zones\")\n",
        "plt.plot(np.array(range(1,clam_blitz.size+1)), clam_blitz, marker=\"o\", label=\"Clam Blitz\")\n",
        "plt.plot(np.array(range(1,rainmaker.size+1)), rainmaker, marker=\"o\", label=\"Rainmaker\")\n",
        "plt.plot(np.array(range(1,tower_control.size+1)), tower_control, marker=\"o\", label=\"Tower Control\")\n",
        "plt.legend()\n",
        "plt.title(\"Splatool3 X MATCH(Dec-Feb 2022)\")\n",
        "plt.xlabel(\"Count\")\n",
        "plt.ylabel(\"X Power\")"
      ],
      "metadata": {
        "colab": {
          "base_uri": "https://localhost:8080/",
          "height": 396
        },
        "id": "rUNWWt2cErns",
        "outputId": "bf0bba23-75c5-4770-d2db-99ce4935f354"
      },
      "execution_count": null,
      "outputs": [
        {
          "output_type": "stream",
          "name": "stdout",
          "text": [
            "----\n",
            "Splat Zones: 26\n",
            "Clam Blitz: 11\n",
            "Rainmaker: 18\n",
            "Tower Control: 19\n",
            "----\n"
          ]
        },
        {
          "output_type": "execute_result",
          "data": {
            "text/plain": [
              "Text(0, 0.5, 'X Power')"
            ]
          },
          "metadata": {},
          "execution_count": 21
        },
        {
          "output_type": "display_data",
          "data": {
            "text/plain": [
              "<Figure size 432x288 with 1 Axes>"
            ],
            "image/png": "[encoded data removed]"
          },
          "metadata": {
            "needs_background": "light"
          }
        }
      ]
    }
  ]
}